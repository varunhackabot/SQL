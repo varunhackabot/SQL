{
  "nbformat": 4,
  "nbformat_minor": 0,
  "metadata": {
    "kernelspec": {
      "display_name": "Python 3",
      "language": "python",
      "name": "python3"
    },
    "language_info": {
      "codemirror_mode": {
        "name": "ipython",
        "version": 3
      },
      "file_extension": ".py",
      "mimetype": "text/x-python",
      "name": "python",
      "nbconvert_exporter": "python",
      "pygments_lexer": "ipython3",
      "version": "3.7.4"
    },
    "colab": {
      "name": "Assignment 3_Solution.ipynb",
      "provenance": []
    }
  },
  "cells": [
    {
      "cell_type": "markdown",
      "metadata": {
        "id": "-RhFpwe74wG-"
      },
      "source": [
        "### Q1) Write a function to multiply all the numbers in a list."
      ]
    },
    {
      "cell_type": "code",
      "metadata": {
        "id": "1B5_64Ug4wHC"
      },
      "source": [
        "def multiply(*args):\n",
        "  n = 1\n",
        "  for i in range(len(args)):\n",
        "    n *= args[i]\n",
        "  return(n)"
      ],
      "execution_count": null,
      "outputs": []
    },
    {
      "cell_type": "code",
      "metadata": {
        "colab": {
          "base_uri": "https://localhost:8080/"
        },
        "id": "F4rS0OrK4wHD",
        "outputId": "050233e4-2006-4f5c-aa31-9a7ead0e0b0c"
      },
      "source": [
        "multiply(3,4,2,1)"
      ],
      "execution_count": null,
      "outputs": [
        {
          "output_type": "execute_result",
          "data": {
            "text/plain": [
              "24"
            ]
          },
          "metadata": {
            "tags": []
          },
          "execution_count": 16
        }
      ]
    },
    {
      "cell_type": "markdown",
      "metadata": {
        "id": "ht9YrTUC4wHD"
      },
      "source": [
        "### Q2) Write a Python function to calculate the factorial of a number (a non-negative integer). The function accepts the number as an argument.\n",
        "\n",
        "\n"
      ]
    },
    {
      "cell_type": "code",
      "metadata": {
        "id": "GMwFjG9Y4wHE"
      },
      "source": [
        "def factorial(number):\n",
        "  if(number==0):\n",
        "    return 1\n",
        "  else:\n",
        "    return(factorial(number-1)*(number))\n"
      ],
      "execution_count": null,
      "outputs": []
    },
    {
      "cell_type": "code",
      "metadata": {
        "colab": {
          "base_uri": "https://localhost:8080/"
        },
        "id": "UdGH3XkY4wHF",
        "outputId": "994b9a37-88b5-4602-8bb9-902bd76e1e78"
      },
      "source": [
        "factorial(5)"
      ],
      "execution_count": null,
      "outputs": [
        {
          "output_type": "execute_result",
          "data": {
            "text/plain": [
              "120"
            ]
          },
          "metadata": {
            "tags": []
          },
          "execution_count": 14
        }
      ]
    },
    {
      "cell_type": "markdown",
      "metadata": {
        "id": "gcrrR1Yi4wHF"
      },
      "source": [
        "### Q3) Write a Python function that accepts a string and calculate the number of upper case letters and lower case letters.\n",
        "\n",
        "\n"
      ]
    },
    {
      "cell_type": "code",
      "metadata": {
        "id": "ujvrIXqE4wHG"
      },
      "source": [
        "def string_conversion(a):\n",
        "  highcase=0\n",
        "  lowercase = 0\n",
        "  for i in a:\n",
        "    if(i==i.upper()):\n",
        "      highcase+=1\n",
        "    elif(i==i.lower()):\n",
        "      lowercase+=1\n",
        "  return (\"Highercase=\",highcase,\"LowerCase=\",lowercase)"
      ],
      "execution_count": 32,
      "outputs": []
    },
    {
      "cell_type": "code",
      "metadata": {
        "id": "3lGDAFoR4wHH",
        "colab": {
          "base_uri": "https://localhost:8080/"
        },
        "outputId": "da3a6c3f-ace8-4a2a-f413-2a8cb44db76b"
      },
      "source": [
        "string_conversion(\"WeWillRockYou\")"
      ],
      "execution_count": 33,
      "outputs": [
        {
          "output_type": "execute_result",
          "data": {
            "text/plain": [
              "('Highercase=', 4, 'LowerCase=', 9)"
            ]
          },
          "metadata": {
            "tags": []
          },
          "execution_count": 33
        }
      ]
    },
    {
      "cell_type": "markdown",
      "metadata": {
        "id": "N7WI1aEs4wHH"
      },
      "source": [
        "### Q4) Write a Python function that takes a list and returns a new list with unique elements of the first list.\n",
        "\n",
        "\n",
        "\n"
      ]
    },
    {
      "cell_type": "code",
      "metadata": {
        "id": "089dM9Zc4wHI"
      },
      "source": [
        "def unique_items(*args):\n",
        "  unique_list = []\n",
        "  for i in args:\n",
        "    if i not in unique_list:\n",
        "      unique_list.append(i)\n",
        "  return (unique_list)\n"
      ],
      "execution_count": 45,
      "outputs": []
    },
    {
      "cell_type": "code",
      "metadata": {
        "id": "GmNDa8MR4wHI",
        "colab": {
          "base_uri": "https://localhost:8080/"
        },
        "outputId": "5a8a9b03-d02c-400b-a2c7-67e8ff5ea208"
      },
      "source": [
        "unique_items(1,3,2,1,2,3,5)\n"
      ],
      "execution_count": 47,
      "outputs": [
        {
          "output_type": "execute_result",
          "data": {
            "text/plain": [
              "[1, 3, 2, 5]"
            ]
          },
          "metadata": {
            "tags": []
          },
          "execution_count": 47
        }
      ]
    },
    {
      "cell_type": "markdown",
      "metadata": {
        "id": "fgMXlf7a4wHI"
      },
      "source": [
        "### Q5) Write a Python program to print the even numbers from a given list.\n",
        "\n",
        "\n"
      ]
    },
    {
      "cell_type": "code",
      "metadata": {
        "id": "BOx_L4T04wHJ"
      },
      "source": [
        "def even_numbers(*args):\n",
        "  even_list = []\n",
        "  for i in args:\n",
        "    if(i%2==0):\n",
        "      even_list.append(i)\n",
        "  return (even_list)"
      ],
      "execution_count": 49,
      "outputs": []
    },
    {
      "cell_type": "code",
      "metadata": {
        "id": "t7FWY9IA4wHJ",
        "colab": {
          "base_uri": "https://localhost:8080/"
        },
        "outputId": "8e46f2f3-060a-475e-9296-bb7da1d3fa94"
      },
      "source": [
        "even_numbers(1,2,3,4,5,6,7,8,9)"
      ],
      "execution_count": 50,
      "outputs": [
        {
          "output_type": "execute_result",
          "data": {
            "text/plain": [
              "[2, 4, 6, 8]"
            ]
          },
          "metadata": {
            "tags": []
          },
          "execution_count": 50
        }
      ]
    },
    {
      "cell_type": "markdown",
      "metadata": {
        "id": "Th3HIXhx4wHK"
      },
      "source": [
        "### Q6) Write a function to remove all duplicates from a given string.\n",
        "\n",
        "\n"
      ]
    },
    {
      "cell_type": "code",
      "metadata": {
        "id": "P3zn9uK-4wHK"
      },
      "source": [
        "def remove_duplicates(a):\n",
        "  unique = ''\n",
        "  for i in a:\n",
        "    if i not in unique:\n",
        "      unique+=i\n",
        "  return(unique)"
      ],
      "execution_count": 61,
      "outputs": []
    },
    {
      "cell_type": "code",
      "metadata": {
        "id": "Wm8XCqoz4wHK",
        "colab": {
          "base_uri": "https://localhost:8080/",
          "height": 35
        },
        "outputId": "655ee7d9-696a-4959-c95c-c89c79ef2948"
      },
      "source": [
        "remove_duplicates('abracadabra')"
      ],
      "execution_count": 62,
      "outputs": [
        {
          "output_type": "execute_result",
          "data": {
            "application/vnd.google.colaboratory.intrinsic+json": {
              "type": "string"
            },
            "text/plain": [
              "'abrcd'"
            ]
          },
          "metadata": {
            "tags": []
          },
          "execution_count": 62
        }
      ]
    },
    {
      "cell_type": "code",
      "metadata": {
        "id": "cNbuA8v5Jyih"
      },
      "source": [
        ""
      ],
      "execution_count": null,
      "outputs": []
    }
  ]
}